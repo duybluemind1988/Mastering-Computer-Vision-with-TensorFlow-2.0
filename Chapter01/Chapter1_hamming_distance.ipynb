{
  "nbformat": 4,
  "nbformat_minor": 0,
  "metadata": {
    "kernelspec": {
      "display_name": "Python 3",
      "language": "python",
      "name": "python3"
    },
    "language_info": {
      "codemirror_mode": {
        "name": "ipython",
        "version": 3
      },
      "file_extension": ".py",
      "mimetype": "text/x-python",
      "name": "python",
      "nbconvert_exporter": "python",
      "pygments_lexer": "ipython3",
      "version": "3.7.3"
    },
    "colab": {
      "name": "Chapter1_hamming_distance.ipynb",
      "provenance": []
    }
  },
  "cells": [
    {
      "cell_type": "code",
      "metadata": {
        "id": "hKSOePcsFseP"
      },
      "source": [
        "from PIL import Image\n",
        "import numpy as np\n",
        "import cv2"
      ],
      "execution_count": 3,
      "outputs": []
    },
    {
      "cell_type": "code",
      "metadata": {
        "id": "h640KbPZF_3F",
        "outputId": "d751b6e3-a688-43d6-9abe-ec54d759a269",
        "colab": {
          "base_uri": "https://localhost:8080/",
          "height": 272
        }
      },
      "source": [
        "!pip install ImageHash"
      ],
      "execution_count": 6,
      "outputs": [
        {
          "output_type": "stream",
          "text": [
            "Collecting ImageHash\n",
            "\u001b[?25l  Downloading https://files.pythonhosted.org/packages/1a/5d/cc81830be3c4705a46cdbca74439b67f1017881383ba0127c41c4cecb7b3/ImageHash-4.1.0.tar.gz (291kB)\n",
            "\r\u001b[K     |█▏                              | 10kB 17.1MB/s eta 0:00:01\r\u001b[K     |██▎                             | 20kB 1.7MB/s eta 0:00:01\r\u001b[K     |███▍                            | 30kB 2.2MB/s eta 0:00:01\r\u001b[K     |████▌                           | 40kB 2.5MB/s eta 0:00:01\r\u001b[K     |█████▋                          | 51kB 1.9MB/s eta 0:00:01\r\u001b[K     |██████▊                         | 61kB 2.2MB/s eta 0:00:01\r\u001b[K     |███████▉                        | 71kB 2.5MB/s eta 0:00:01\r\u001b[K     |█████████                       | 81kB 2.7MB/s eta 0:00:01\r\u001b[K     |██████████                      | 92kB 2.9MB/s eta 0:00:01\r\u001b[K     |███████████▎                    | 102kB 2.7MB/s eta 0:00:01\r\u001b[K     |████████████▍                   | 112kB 2.7MB/s eta 0:00:01\r\u001b[K     |█████████████▌                  | 122kB 2.7MB/s eta 0:00:01\r\u001b[K     |██████████████▋                 | 133kB 2.7MB/s eta 0:00:01\r\u001b[K     |███████████████▊                | 143kB 2.7MB/s eta 0:00:01\r\u001b[K     |████████████████▉               | 153kB 2.7MB/s eta 0:00:01\r\u001b[K     |██████████████████              | 163kB 2.7MB/s eta 0:00:01\r\u001b[K     |███████████████████             | 174kB 2.7MB/s eta 0:00:01\r\u001b[K     |████████████████████▏           | 184kB 2.7MB/s eta 0:00:01\r\u001b[K     |█████████████████████▎          | 194kB 2.7MB/s eta 0:00:01\r\u001b[K     |██████████████████████▌         | 204kB 2.7MB/s eta 0:00:01\r\u001b[K     |███████████████████████▋        | 215kB 2.7MB/s eta 0:00:01\r\u001b[K     |████████████████████████▊       | 225kB 2.7MB/s eta 0:00:01\r\u001b[K     |█████████████████████████▉      | 235kB 2.7MB/s eta 0:00:01\r\u001b[K     |███████████████████████████     | 245kB 2.7MB/s eta 0:00:01\r\u001b[K     |████████████████████████████    | 256kB 2.7MB/s eta 0:00:01\r\u001b[K     |█████████████████████████████▏  | 266kB 2.7MB/s eta 0:00:01\r\u001b[K     |██████████████████████████████▎ | 276kB 2.7MB/s eta 0:00:01\r\u001b[K     |███████████████████████████████▍| 286kB 2.7MB/s eta 0:00:01\r\u001b[K     |████████████████████████████████| 296kB 2.7MB/s \n",
            "\u001b[?25hRequirement already satisfied: six in /usr/local/lib/python3.6/dist-packages (from ImageHash) (1.15.0)\n",
            "Requirement already satisfied: numpy in /usr/local/lib/python3.6/dist-packages (from ImageHash) (1.18.5)\n",
            "Requirement already satisfied: scipy in /usr/local/lib/python3.6/dist-packages (from ImageHash) (1.4.1)\n",
            "Requirement already satisfied: pillow in /usr/local/lib/python3.6/dist-packages (from ImageHash) (7.0.0)\n",
            "Requirement already satisfied: PyWavelets in /usr/local/lib/python3.6/dist-packages (from ImageHash) (1.1.1)\n",
            "Building wheels for collected packages: ImageHash\n",
            "  Building wheel for ImageHash (setup.py) ... \u001b[?25l\u001b[?25hdone\n",
            "  Created wheel for ImageHash: filename=ImageHash-4.1.0-py2.py3-none-any.whl size=291991 sha256=8700bba65441c7f6c17288df1a03653d5e4093af740a577b3f96eb1ecab6c1ab\n",
            "  Stored in directory: /root/.cache/pip/wheels/07/1c/dc/6831446f09feb8cc199ec73a0f2f0703253f6ae013a22f4be9\n",
            "Successfully built ImageHash\n",
            "Installing collected packages: ImageHash\n",
            "Successfully installed ImageHash-4.1.0\n"
          ],
          "name": "stdout"
        }
      ]
    },
    {
      "cell_type": "code",
      "metadata": {
        "id": "5vV5tD3xFseU"
      },
      "source": [
        "import imagehash\n",
        "#import scipy.spatial\n",
        "from scipy.spatial import distance"
      ],
      "execution_count": 7,
      "outputs": []
    },
    {
      "cell_type": "code",
      "metadata": {
        "id": "ZuXUHUfyGujZ"
      },
      "source": [
        "!wget https://raw.githubusercontent.com/duybluemind1988/Mastering-Computer-Vision-with-TensorFlow-2.0/master/Chapter01/car1.png\n",
        "!wget https://raw.githubusercontent.com/duybluemind1988/Mastering-Computer-Vision-with-TensorFlow-2.0/master/Chapter01/car2.png\n",
        "!wget https://raw.githubusercontent.com/duybluemind1988/Mastering-Computer-Vision-with-TensorFlow-2.0/master/Chapter01/car3.png"
      ],
      "execution_count": null,
      "outputs": []
    },
    {
      "cell_type": "code",
      "metadata": {
        "id": "gG1uiIX7FseX",
        "outputId": "a97c8f91-0c79-4e20-d7bd-5fe562a2d238",
        "colab": {
          "base_uri": "https://localhost:8080/",
          "height": 34
        }
      },
      "source": [
        "hash1 = imagehash.phash(Image.open('car1.png'))\n",
        "hash2 = imagehash.phash(Image.open('car2.png'))\n",
        "hash3 = imagehash.phash(Image.open('car3.png'))\n",
        "print (hash1, hash2, hash3)"
      ],
      "execution_count": 17,
      "outputs": [
        {
          "output_type": "stream",
          "text": [
            "9a86372888939fbd ffe090a9c116dd32 e4eaabec9c919093\n"
          ],
          "name": "stdout"
        }
      ]
    },
    {
      "cell_type": "code",
      "metadata": {
        "id": "CkMKJDikFsec",
        "outputId": "4f674cc3-c734-4115-a406-188403f48f25",
        "colab": {
          "base_uri": "https://localhost:8080/",
          "height": 34
        }
      },
      "source": [
        "hs1 = str(hash1)\n",
        "hs2 = str(hash2)\n",
        "hs3 = str(hash3)\n",
        "print (hs1, hs2, hs3)"
      ],
      "execution_count": 18,
      "outputs": [
        {
          "output_type": "stream",
          "text": [
            "9a86372888939fbd ffe090a9c116dd32 e4eaabec9c919093\n"
          ],
          "name": "stdout"
        }
      ]
    },
    {
      "cell_type": "code",
      "metadata": {
        "id": "JEodQUFwFseh"
      },
      "source": [
        "# we are doing a string compare to find difference\n",
        "def hamming_distance(h1, h2):\n",
        "    counter = 0\n",
        "    for i in range(len(h1)):\n",
        "        if h1[i] != h2[i]:\n",
        "            counter += 1\n",
        "    return counter"
      ],
      "execution_count": 19,
      "outputs": []
    },
    {
      "cell_type": "code",
      "metadata": {
        "id": "6UgggttmFsel",
        "outputId": "93117cfb-c3f0-47fc-f1d0-0b78b6059ecc",
        "colab": {
          "base_uri": "https://localhost:8080/",
          "height": 85
        }
      },
      "source": [
        "#print (hamming_distance(hash1,hash2)) - this needs to be commented out to avoid error: object of type 'ImageHash' has no len()\n",
        "# so hash value is converted to string first\n",
        "\n",
        "print (\"hs1-hs2\",hamming_distance(hs1,hs2))\n",
        "print (\"hs1-hs3\",hamming_distance(hs1,hs3))\n",
        "print (\"hs2-hs3\",hamming_distance(hs2,hs3))\n",
        "print (\"hs2-hs2\",hamming_distance(hs2,hs2))"
      ],
      "execution_count": 20,
      "outputs": [
        {
          "output_type": "stream",
          "text": [
            "hs1-hs2 16\n",
            "hs1-hs3 14\n",
            "hs2-hs3 15\n",
            "hs2-hs2 0\n"
          ],
          "name": "stdout"
        }
      ]
    },
    {
      "cell_type": "code",
      "metadata": {
        "id": "v4D6EFS1Fseo",
        "outputId": "8fc91675-95d3-43ab-a7bd-63abf2bdc4ae",
        "colab": {
          "base_uri": "https://localhost:8080/",
          "height": 34
        }
      },
      "source": [
        "#note the distance.hamming function from scipy.spatial always return 1\n",
        "print(distance.hamming(hash1, hash2))"
      ],
      "execution_count": 21,
      "outputs": [
        {
          "output_type": "stream",
          "text": [
            "1.0\n"
          ],
          "name": "stdout"
        }
      ]
    },
    {
      "cell_type": "code",
      "metadata": {
        "id": "mtTFwg-RFser",
        "outputId": "95b8ac9f-bc42-4aa2-b4a4-82b913ecbb58",
        "colab": {
          "base_uri": "https://localhost:8080/",
          "height": 34
        }
      },
      "source": [
        "print(distance.hamming(hs1, hs2))"
      ],
      "execution_count": 22,
      "outputs": [
        {
          "output_type": "stream",
          "text": [
            "1.0\n"
          ],
          "name": "stdout"
        }
      ]
    },
    {
      "cell_type": "code",
      "metadata": {
        "id": "8B7oIDAzFseu"
      },
      "source": [
        ""
      ],
      "execution_count": null,
      "outputs": []
    }
  ]
}